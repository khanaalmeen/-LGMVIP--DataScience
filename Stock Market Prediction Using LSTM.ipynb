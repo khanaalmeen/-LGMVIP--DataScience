{
 "cells": [
  {
   "cell_type": "markdown",
   "id": "18342be7",
   "metadata": {},
   "source": [
    "#  Stock Market Prediction and Forecasting Using Stacked LSTM\n",
    "### LGMVIP - DATASCIENCE INTERNSHIP\n",
    "### BATCH- JAN 2023\n",
    "### AUTHOR- AALMEEN KHAN"
   ]
  },
  {
   "cell_type": "code",
   "execution_count": 26,
   "id": "0c16622e",
   "metadata": {},
   "outputs": [],
   "source": [
    "# pip install tensorflow"
   ]
  },
  {
   "cell_type": "markdown",
   "id": "ae181216",
   "metadata": {},
   "source": [
    "### Importing all the libraries"
   ]
  },
  {
   "cell_type": "code",
   "execution_count": 1,
   "id": "125b36c5",
   "metadata": {},
   "outputs": [],
   "source": [
    "from sklearn.preprocessing import MinMaxScaler\n",
    "from tensorflow.keras.models import Sequential\n",
    "from tensorflow.keras.layers import Dense\n",
    "from tensorflow.keras.layers import LSTM\n",
    "from sklearn.metrics import mean_squared_error\n",
    "\n",
    "import matplotlib.pyplot as plt\n",
    "import seaborn as sns\n",
    "import warnings \n",
    "import pandas as pd\n",
    "import numpy as np\n",
    "import math \n",
    "warnings.filterwarnings('ignore')"
   ]
  },
  {
   "cell_type": "markdown",
   "id": "94e014e1",
   "metadata": {},
   "source": [
    "### Loading the data"
   ]
  },
  {
   "cell_type": "code",
   "execution_count": 2,
   "id": "eae2fee3",
   "metadata": {},
   "outputs": [
    {
     "data": {
      "text/html": [
       "<div>\n",
       "<style scoped>\n",
       "    .dataframe tbody tr th:only-of-type {\n",
       "        vertical-align: middle;\n",
       "    }\n",
       "\n",
       "    .dataframe tbody tr th {\n",
       "        vertical-align: top;\n",
       "    }\n",
       "\n",
       "    .dataframe thead th {\n",
       "        text-align: right;\n",
       "    }\n",
       "</style>\n",
       "<table border=\"1\" class=\"dataframe\">\n",
       "  <thead>\n",
       "    <tr style=\"text-align: right;\">\n",
       "      <th></th>\n",
       "      <th>Date</th>\n",
       "      <th>Open</th>\n",
       "      <th>High</th>\n",
       "      <th>Low</th>\n",
       "      <th>Last</th>\n",
       "      <th>Close</th>\n",
       "      <th>Total Trade Quantity</th>\n",
       "      <th>Turnover (Lacs)</th>\n",
       "    </tr>\n",
       "  </thead>\n",
       "  <tbody>\n",
       "    <tr>\n",
       "      <th>0</th>\n",
       "      <td>2018-09-28</td>\n",
       "      <td>234.05</td>\n",
       "      <td>235.95</td>\n",
       "      <td>230.20</td>\n",
       "      <td>233.50</td>\n",
       "      <td>233.75</td>\n",
       "      <td>3069914</td>\n",
       "      <td>7162.35</td>\n",
       "    </tr>\n",
       "    <tr>\n",
       "      <th>1</th>\n",
       "      <td>2018-09-27</td>\n",
       "      <td>234.55</td>\n",
       "      <td>236.80</td>\n",
       "      <td>231.10</td>\n",
       "      <td>233.80</td>\n",
       "      <td>233.25</td>\n",
       "      <td>5082859</td>\n",
       "      <td>11859.95</td>\n",
       "    </tr>\n",
       "    <tr>\n",
       "      <th>2</th>\n",
       "      <td>2018-09-26</td>\n",
       "      <td>240.00</td>\n",
       "      <td>240.00</td>\n",
       "      <td>232.50</td>\n",
       "      <td>235.00</td>\n",
       "      <td>234.25</td>\n",
       "      <td>2240909</td>\n",
       "      <td>5248.60</td>\n",
       "    </tr>\n",
       "    <tr>\n",
       "      <th>3</th>\n",
       "      <td>2018-09-25</td>\n",
       "      <td>233.30</td>\n",
       "      <td>236.75</td>\n",
       "      <td>232.00</td>\n",
       "      <td>236.25</td>\n",
       "      <td>236.10</td>\n",
       "      <td>2349368</td>\n",
       "      <td>5503.90</td>\n",
       "    </tr>\n",
       "    <tr>\n",
       "      <th>4</th>\n",
       "      <td>2018-09-24</td>\n",
       "      <td>233.55</td>\n",
       "      <td>239.20</td>\n",
       "      <td>230.75</td>\n",
       "      <td>234.00</td>\n",
       "      <td>233.30</td>\n",
       "      <td>3423509</td>\n",
       "      <td>7999.55</td>\n",
       "    </tr>\n",
       "  </tbody>\n",
       "</table>\n",
       "</div>"
      ],
      "text/plain": [
       "         Date    Open    High     Low    Last   Close  Total Trade Quantity  \\\n",
       "0  2018-09-28  234.05  235.95  230.20  233.50  233.75               3069914   \n",
       "1  2018-09-27  234.55  236.80  231.10  233.80  233.25               5082859   \n",
       "2  2018-09-26  240.00  240.00  232.50  235.00  234.25               2240909   \n",
       "3  2018-09-25  233.30  236.75  232.00  236.25  236.10               2349368   \n",
       "4  2018-09-24  233.55  239.20  230.75  234.00  233.30               3423509   \n",
       "\n",
       "   Turnover (Lacs)  \n",
       "0          7162.35  \n",
       "1         11859.95  \n",
       "2          5248.60  \n",
       "3          5503.90  \n",
       "4          7999.55  "
      ]
     },
     "execution_count": 2,
     "metadata": {},
     "output_type": "execute_result"
    }
   ],
   "source": [
    "d = pd.read_csv('https://raw.githubusercontent.com/mwitiderrick/stockprice/master/NSE-TATAGLOBAL.csv')\n",
    "d.head()"
   ]
  },
  {
   "cell_type": "code",
   "execution_count": 3,
   "id": "e67c927b",
   "metadata": {},
   "outputs": [
    {
     "name": "stdout",
     "output_type": "stream",
     "text": [
      "<class 'pandas.core.frame.DataFrame'>\n",
      "RangeIndex: 2035 entries, 0 to 2034\n",
      "Data columns (total 8 columns):\n",
      " #   Column                Non-Null Count  Dtype  \n",
      "---  ------                --------------  -----  \n",
      " 0   Date                  2035 non-null   object \n",
      " 1   Open                  2035 non-null   float64\n",
      " 2   High                  2035 non-null   float64\n",
      " 3   Low                   2035 non-null   float64\n",
      " 4   Last                  2035 non-null   float64\n",
      " 5   Close                 2035 non-null   float64\n",
      " 6   Total Trade Quantity  2035 non-null   int64  \n",
      " 7   Turnover (Lacs)       2035 non-null   float64\n",
      "dtypes: float64(6), int64(1), object(1)\n",
      "memory usage: 127.3+ KB\n"
     ]
    }
   ],
   "source": [
    "d.info()"
   ]
  },
  {
   "cell_type": "code",
   "execution_count": 4,
   "id": "a454b130",
   "metadata": {},
   "outputs": [
    {
     "data": {
      "text/html": [
       "<div>\n",
       "<style scoped>\n",
       "    .dataframe tbody tr th:only-of-type {\n",
       "        vertical-align: middle;\n",
       "    }\n",
       "\n",
       "    .dataframe tbody tr th {\n",
       "        vertical-align: top;\n",
       "    }\n",
       "\n",
       "    .dataframe thead th {\n",
       "        text-align: right;\n",
       "    }\n",
       "</style>\n",
       "<table border=\"1\" class=\"dataframe\">\n",
       "  <thead>\n",
       "    <tr style=\"text-align: right;\">\n",
       "      <th></th>\n",
       "      <th>Open</th>\n",
       "      <th>High</th>\n",
       "      <th>Low</th>\n",
       "      <th>Last</th>\n",
       "      <th>Close</th>\n",
       "      <th>Total Trade Quantity</th>\n",
       "      <th>Turnover (Lacs)</th>\n",
       "    </tr>\n",
       "  </thead>\n",
       "  <tbody>\n",
       "    <tr>\n",
       "      <th>count</th>\n",
       "      <td>2035.000000</td>\n",
       "      <td>2035.000000</td>\n",
       "      <td>2035.000000</td>\n",
       "      <td>2035.000000</td>\n",
       "      <td>2035.00000</td>\n",
       "      <td>2.035000e+03</td>\n",
       "      <td>2035.000000</td>\n",
       "    </tr>\n",
       "    <tr>\n",
       "      <th>mean</th>\n",
       "      <td>149.713735</td>\n",
       "      <td>151.992826</td>\n",
       "      <td>147.293931</td>\n",
       "      <td>149.474251</td>\n",
       "      <td>149.45027</td>\n",
       "      <td>2.335681e+06</td>\n",
       "      <td>3899.980565</td>\n",
       "    </tr>\n",
       "    <tr>\n",
       "      <th>std</th>\n",
       "      <td>48.664509</td>\n",
       "      <td>49.413109</td>\n",
       "      <td>47.931958</td>\n",
       "      <td>48.732570</td>\n",
       "      <td>48.71204</td>\n",
       "      <td>2.091778e+06</td>\n",
       "      <td>4570.767877</td>\n",
       "    </tr>\n",
       "    <tr>\n",
       "      <th>min</th>\n",
       "      <td>81.100000</td>\n",
       "      <td>82.800000</td>\n",
       "      <td>80.000000</td>\n",
       "      <td>81.000000</td>\n",
       "      <td>80.95000</td>\n",
       "      <td>3.961000e+04</td>\n",
       "      <td>37.040000</td>\n",
       "    </tr>\n",
       "    <tr>\n",
       "      <th>25%</th>\n",
       "      <td>120.025000</td>\n",
       "      <td>122.100000</td>\n",
       "      <td>118.300000</td>\n",
       "      <td>120.075000</td>\n",
       "      <td>120.05000</td>\n",
       "      <td>1.146444e+06</td>\n",
       "      <td>1427.460000</td>\n",
       "    </tr>\n",
       "    <tr>\n",
       "      <th>50%</th>\n",
       "      <td>141.500000</td>\n",
       "      <td>143.400000</td>\n",
       "      <td>139.600000</td>\n",
       "      <td>141.100000</td>\n",
       "      <td>141.25000</td>\n",
       "      <td>1.783456e+06</td>\n",
       "      <td>2512.030000</td>\n",
       "    </tr>\n",
       "    <tr>\n",
       "      <th>75%</th>\n",
       "      <td>157.175000</td>\n",
       "      <td>159.400000</td>\n",
       "      <td>155.150000</td>\n",
       "      <td>156.925000</td>\n",
       "      <td>156.90000</td>\n",
       "      <td>2.813594e+06</td>\n",
       "      <td>4539.015000</td>\n",
       "    </tr>\n",
       "    <tr>\n",
       "      <th>max</th>\n",
       "      <td>327.700000</td>\n",
       "      <td>328.750000</td>\n",
       "      <td>321.650000</td>\n",
       "      <td>325.950000</td>\n",
       "      <td>325.75000</td>\n",
       "      <td>2.919102e+07</td>\n",
       "      <td>55755.080000</td>\n",
       "    </tr>\n",
       "  </tbody>\n",
       "</table>\n",
       "</div>"
      ],
      "text/plain": [
       "              Open         High          Low         Last       Close  \\\n",
       "count  2035.000000  2035.000000  2035.000000  2035.000000  2035.00000   \n",
       "mean    149.713735   151.992826   147.293931   149.474251   149.45027   \n",
       "std      48.664509    49.413109    47.931958    48.732570    48.71204   \n",
       "min      81.100000    82.800000    80.000000    81.000000    80.95000   \n",
       "25%     120.025000   122.100000   118.300000   120.075000   120.05000   \n",
       "50%     141.500000   143.400000   139.600000   141.100000   141.25000   \n",
       "75%     157.175000   159.400000   155.150000   156.925000   156.90000   \n",
       "max     327.700000   328.750000   321.650000   325.950000   325.75000   \n",
       "\n",
       "       Total Trade Quantity  Turnover (Lacs)  \n",
       "count          2.035000e+03      2035.000000  \n",
       "mean           2.335681e+06      3899.980565  \n",
       "std            2.091778e+06      4570.767877  \n",
       "min            3.961000e+04        37.040000  \n",
       "25%            1.146444e+06      1427.460000  \n",
       "50%            1.783456e+06      2512.030000  \n",
       "75%            2.813594e+06      4539.015000  \n",
       "max            2.919102e+07     55755.080000  "
      ]
     },
     "execution_count": 4,
     "metadata": {},
     "output_type": "execute_result"
    }
   ],
   "source": [
    "d.describe()"
   ]
  },
  {
   "cell_type": "code",
   "execution_count": 27,
   "id": "1ab9812d",
   "metadata": {},
   "outputs": [
    {
     "data": {
      "text/plain": [
       "Date                    0\n",
       "Open                    0\n",
       "High                    0\n",
       "Low                     0\n",
       "Last                    0\n",
       "Close                   0\n",
       "Total Trade Quantity    0\n",
       "Turnover (Lacs)         0\n",
       "dtype: int64"
      ]
     },
     "execution_count": 27,
     "metadata": {},
     "output_type": "execute_result"
    }
   ],
   "source": [
    "#Checking for null values\n",
    "d.isnull().sum()"
   ]
  },
  {
   "cell_type": "code",
   "execution_count": 28,
   "id": "e1b9450c",
   "metadata": {},
   "outputs": [
    {
     "data": {
      "text/plain": [
       "Date                    datetime64[ns]\n",
       "Open                           float64\n",
       "High                           float64\n",
       "Low                            float64\n",
       "Last                           float64\n",
       "Close                          float64\n",
       "Total Trade Quantity             int64\n",
       "Turnover (Lacs)                float64\n",
       "dtype: object"
      ]
     },
     "execution_count": 28,
     "metadata": {},
     "output_type": "execute_result"
    }
   ],
   "source": [
    "d['Date'] = pd.to_datetime(d['Date'])\n",
    "d.dtypes"
   ]
  },
  {
   "cell_type": "code",
   "execution_count": 32,
   "id": "d0f9a6f3",
   "metadata": {},
   "outputs": [
    {
     "data": {
      "text/html": [
       "<div>\n",
       "<style scoped>\n",
       "    .dataframe tbody tr th:only-of-type {\n",
       "        vertical-align: middle;\n",
       "    }\n",
       "\n",
       "    .dataframe tbody tr th {\n",
       "        vertical-align: top;\n",
       "    }\n",
       "\n",
       "    .dataframe thead th {\n",
       "        text-align: right;\n",
       "    }\n",
       "</style>\n",
       "<table border=\"1\" class=\"dataframe\">\n",
       "  <thead>\n",
       "    <tr style=\"text-align: right;\">\n",
       "      <th></th>\n",
       "      <th>Date</th>\n",
       "      <th>Open</th>\n",
       "      <th>High</th>\n",
       "      <th>Low</th>\n",
       "      <th>Last</th>\n",
       "      <th>Close</th>\n",
       "      <th>Total Trade Quantity</th>\n",
       "      <th>Turnover (Lacs)</th>\n",
       "    </tr>\n",
       "  </thead>\n",
       "  <tbody>\n",
       "    <tr>\n",
       "      <th>2034</th>\n",
       "      <td>2010-07-21</td>\n",
       "      <td>122.1</td>\n",
       "      <td>123.00</td>\n",
       "      <td>121.05</td>\n",
       "      <td>121.10</td>\n",
       "      <td>121.55</td>\n",
       "      <td>658666</td>\n",
       "      <td>803.56</td>\n",
       "    </tr>\n",
       "    <tr>\n",
       "      <th>2033</th>\n",
       "      <td>2010-07-22</td>\n",
       "      <td>120.3</td>\n",
       "      <td>122.00</td>\n",
       "      <td>120.25</td>\n",
       "      <td>120.75</td>\n",
       "      <td>120.90</td>\n",
       "      <td>293312</td>\n",
       "      <td>355.17</td>\n",
       "    </tr>\n",
       "    <tr>\n",
       "      <th>2032</th>\n",
       "      <td>2010-07-23</td>\n",
       "      <td>121.8</td>\n",
       "      <td>121.95</td>\n",
       "      <td>120.25</td>\n",
       "      <td>120.35</td>\n",
       "      <td>120.65</td>\n",
       "      <td>281312</td>\n",
       "      <td>340.31</td>\n",
       "    </tr>\n",
       "    <tr>\n",
       "      <th>2031</th>\n",
       "      <td>2010-07-26</td>\n",
       "      <td>120.1</td>\n",
       "      <td>121.00</td>\n",
       "      <td>117.10</td>\n",
       "      <td>117.10</td>\n",
       "      <td>117.60</td>\n",
       "      <td>658440</td>\n",
       "      <td>780.01</td>\n",
       "    </tr>\n",
       "    <tr>\n",
       "      <th>2030</th>\n",
       "      <td>2010-07-27</td>\n",
       "      <td>117.6</td>\n",
       "      <td>119.50</td>\n",
       "      <td>112.00</td>\n",
       "      <td>118.80</td>\n",
       "      <td>118.65</td>\n",
       "      <td>586100</td>\n",
       "      <td>694.98</td>\n",
       "    </tr>\n",
       "  </tbody>\n",
       "</table>\n",
       "</div>"
      ],
      "text/plain": [
       "           Date   Open    High     Low    Last   Close  Total Trade Quantity  \\\n",
       "2034 2010-07-21  122.1  123.00  121.05  121.10  121.55                658666   \n",
       "2033 2010-07-22  120.3  122.00  120.25  120.75  120.90                293312   \n",
       "2032 2010-07-23  121.8  121.95  120.25  120.35  120.65                281312   \n",
       "2031 2010-07-26  120.1  121.00  117.10  117.10  117.60                658440   \n",
       "2030 2010-07-27  117.6  119.50  112.00  118.80  118.65                586100   \n",
       "\n",
       "      Turnover (Lacs)  \n",
       "2034           803.56  \n",
       "2033           355.17  \n",
       "2032           340.31  \n",
       "2031           780.01  \n",
       "2030           694.98  "
      ]
     },
     "execution_count": 32,
     "metadata": {},
     "output_type": "execute_result"
    }
   ],
   "source": [
    "d = d.sort_values('Date')\n",
    "d.head()"
   ]
  },
  {
   "cell_type": "code",
   "execution_count": 33,
   "id": "a0d74bd6",
   "metadata": {},
   "outputs": [
    {
     "data": {
      "text/plain": [
       "Text(0, 0.5, 'Close')"
      ]
     },
     "execution_count": 33,
     "metadata": {},
     "output_type": "execute_result"
    },
    {
     "data": {
      "image/png": "[encoded data removed]",
      "text/plain": [
       "<Figure size 648x432 with 1 Axes>"
      ]
     },
     "metadata": {
      "needs_background": "light"
     },
     "output_type": "display_data"
    }
   ],
   "source": [
    "plt.figure(figsize = (9,6))\n",
    "plt.title('Tata Stocks Closing Price')\n",
    "plt.plot(d['Close'],'g')\n",
    "plt.xlabel('Date',fontsize=15)\n",
    "plt.ylabel('Close',fontsize=15)"
   ]
  },
  {
   "cell_type": "code",
   "execution_count": 36,
   "id": "7438200f",
   "metadata": {},
   "outputs": [
    {
     "data": {
      "text/plain": [
       "0    121.55\n",
       "1    120.90\n",
       "2    120.65\n",
       "3    117.60\n",
       "4    118.65\n",
       "Name: Close, dtype: float64"
      ]
     },
     "execution_count": 36,
     "metadata": {},
     "output_type": "execute_result"
    }
   ],
   "source": [
    "data_close = d.reset_index()['Close']\n",
    "data_close.head()\n",
    "#scaler = MinMaxScaler(feature_range = (0, 1))\n",
    "#data_close = scaler.fit_transform(np.array(data_close).reshape(-1, 1))"
   ]
  },
  {
   "cell_type": "code",
   "execution_count": 37,
   "id": "3e4abd24",
   "metadata": {},
   "outputs": [
    {
     "data": {
      "image/png": "[encoded data removed]",
      "text/plain": [
       "<Figure size 1296x576 with 1 Axes>"
      ]
     },
     "metadata": {
      "needs_background": "light"
     },
     "output_type": "display_data"
    },
    {
     "name": "stdout",
     "output_type": "stream",
     "text": [
      "Test Statistics             -0.901358\n",
      "p-value                      0.787525\n",
      "No of lags                  16.000000\n",
      "No of observation used    2018.000000\n",
      "critical value (1%)         -3.433595\n",
      "critical value (5%)         -2.862973\n",
      "critical value (10%)        -2.567533\n",
      "dtype: float64\n"
     ]
    }
   ],
   "source": [
    "from statsmodels.tsa.stattools import adfuller\n",
    "\n",
    "#Test for stationary\n",
    "def test_stationary(timeseries):\n",
    "    rolemean=timeseries.rolling(12).mean()\n",
    "    rolestd=timeseries.rolling(12).std()\n",
    "    plt.figure(figsize=(18,8))\n",
    "    plt.grid('both')\n",
    "    plt.plot(timeseries,color='blue',label='Orginal',linewidth=3)\n",
    "    plt.plot(rolemean,color='red',label='Rolling Mean',linewidth=3)\n",
    "    plt.plot(rolestd,color='green',label='Rolling Std',linewidth=3)\n",
    "    plt.show()\n",
    "    adft=adfuller(timeseries,autolag='AIC')\n",
    "    output=pd.Series(adft[0:4],index=['Test Statistics','p-value','No of lags','No of observation used'])\n",
    "    for key,values in adft[4].items():\n",
    "        output['critical value (%s)'%key]=values\n",
    "    print(output)    \n",
    "test_stationary(data_close)   "
   ]
  },
  {
   "cell_type": "code",
   "execution_count": 38,
   "id": "ac6aac49",
   "metadata": {},
   "outputs": [],
   "source": [
    "#Lets scale the data by using Min Max scaler\n",
    "scaler = MinMaxScaler(feature_range = (0, 1))\n",
    "data_close = scaler.fit_transform(np.array(data_close).reshape(-1, 1))"
   ]
  },
  {
   "cell_type": "markdown",
   "id": "27059fd7",
   "metadata": {},
   "source": [
    "# Train Test Split"
   ]
  },
  {
   "cell_type": "code",
   "execution_count": 39,
   "id": "b3f676bf",
   "metadata": {},
   "outputs": [],
   "source": [
    "train_size = int(len(data_close)*0.70)\n",
    "test_size = len(data_close) - train_size\n",
    "train, test = data_close[0 : train_size, :], data_close[train_size : len(data_close), :1]"
   ]
  },
  {
   "cell_type": "markdown",
   "id": "f343aed4",
   "metadata": {},
   "source": [
    "# Data Pre-Processing"
   ]
  },
  {
   "cell_type": "code",
   "execution_count": 10,
   "id": "345e7d2a",
   "metadata": {},
   "outputs": [],
   "source": [
    "def create_matrix(ds, time_step=1):\n",
    "    dataX, dataY = [], []\n",
    "    for i in range(len(ds)-time_step-1):\n",
    "        a = ds[i:(i+time_step),0]\n",
    "        dataX.append(a)\n",
    "        dataY.append(ds[i+time_step,0])\n",
    "    return np.array(dataX), np.array(dataY)"
   ]
  },
  {
   "cell_type": "code",
   "execution_count": 11,
   "id": "7d18a7cb",
   "metadata": {},
   "outputs": [
    {
     "name": "stdout",
     "output_type": "stream",
     "text": [
      "(1323, 100) (1323,)\n",
      "(510, 100) (510,)\n"
     ]
    }
   ],
   "source": [
    "step=100 \n",
    "X_train, y_train = create_matrix(train, step)\n",
    "X_test, y_test = create_matrix(test, step)\n",
    "print(X_train.shape, y_train.shape)\n",
    "print(X_test.shape, y_test.shape)"
   ]
  },
  {
   "cell_type": "markdown",
   "id": "5ea45eb5",
   "metadata": {},
   "source": [
    "# LSTM"
   ]
  },
  {
   "cell_type": "code",
   "execution_count": 12,
   "id": "77c12967",
   "metadata": {},
   "outputs": [],
   "source": [
    "X_train = X_train.reshape(X_train.shape[0], X_train.shape[1], 1)\n",
    "X_test = X_test.reshape(X_test.shape[0], X_test.shape[1], 1)"
   ]
  },
  {
   "cell_type": "code",
   "execution_count": 13,
   "id": "98c449af",
   "metadata": {},
   "outputs": [],
   "source": [
    "model = Sequential()\n",
    "model.add(LSTM(50, return_sequences=True,input_shape=(100,1)))\n",
    "model.add(LSTM(50,return_sequences=True))\n",
    "model.add(LSTM(50))\n",
    "model.add(Dense(1))\n",
    "model.compile(loss='mean_squared_error',optimizer='adam')"
   ]
  },
  {
   "cell_type": "code",
   "execution_count": 14,
   "id": "1722ee14",
   "metadata": {},
   "outputs": [
    {
     "name": "stdout",
     "output_type": "stream",
     "text": [
      "Model: \"sequential\"\n",
      "_________________________________________________________________\n",
      " Layer (type)                Output Shape              Param #   \n",
      "=================================================================\n",
      " lstm (LSTM)                 (None, 100, 50)           10400     \n",
      "                                                                 \n",
      " lstm_1 (LSTM)               (None, 100, 50)           20200     \n",
      "                                                                 \n",
      " lstm_2 (LSTM)               (None, 50)                20200     \n",
      "                                                                 \n",
      " dense (Dense)               (None, 1)                 51        \n",
      "                                                                 \n",
      "=================================================================\n",
      "Total params: 50,851\n",
      "Trainable params: 50,851\n",
      "Non-trainable params: 0\n",
      "_________________________________________________________________\n"
     ]
    }
   ],
   "source": [
    "model.summary()"
   ]
  },
  {
   "cell_type": "code",
   "execution_count": 15,
   "id": "d430ca85",
   "metadata": {},
   "outputs": [
    {
     "name": "stdout",
     "output_type": "stream",
     "text": [
      "Epoch 1/77\n",
      "19/19 [==============================] - 20s 391ms/step - loss: 0.0122 - val_loss: 0.0012\n",
      "Epoch 2/77\n",
      "19/19 [==============================] - 4s 226ms/step - loss: 0.0020 - val_loss: 0.0012\n",
      "Epoch 3/77\n",
      "19/19 [==============================] - 4s 225ms/step - loss: 9.7481e-04 - val_loss: 0.0013\n",
      "Epoch 4/77\n",
      "19/19 [==============================] - 4s 216ms/step - loss: 8.6439e-04 - val_loss: 0.0011\n",
      "Epoch 5/77\n",
      "19/19 [==============================] - 4s 216ms/step - loss: 8.1540e-04 - val_loss: 0.0011\n",
      "Epoch 6/77\n",
      "19/19 [==============================] - 4s 221ms/step - loss: 7.9320e-04 - val_loss: 0.0011\n",
      "Epoch 7/77\n",
      "19/19 [==============================] - 5s 247ms/step - loss: 7.8762e-04 - val_loss: 0.0011\n",
      "Epoch 8/77\n",
      "19/19 [==============================] - 4s 216ms/step - loss: 7.4621e-04 - val_loss: 9.8543e-04\n",
      "Epoch 9/77\n",
      "19/19 [==============================] - 4s 204ms/step - loss: 7.1629e-04 - val_loss: 9.1934e-04\n",
      "Epoch 10/77\n",
      "19/19 [==============================] - 4s 222ms/step - loss: 7.0061e-04 - val_loss: 8.7627e-04\n",
      "Epoch 11/77\n",
      "19/19 [==============================] - 5s 240ms/step - loss: 6.7268e-04 - val_loss: 8.3477e-04\n",
      "Epoch 12/77\n",
      "19/19 [==============================] - 4s 223ms/step - loss: 6.7454e-04 - val_loss: 7.9920e-04\n",
      "Epoch 13/77\n",
      "19/19 [==============================] - 4s 230ms/step - loss: 6.7074e-04 - val_loss: 7.8269e-04\n",
      "Epoch 14/77\n",
      "19/19 [==============================] - 4s 232ms/step - loss: 6.5729e-04 - val_loss: 7.4457e-04\n",
      "Epoch 15/77\n",
      "19/19 [==============================] - 4s 225ms/step - loss: 6.3099e-04 - val_loss: 7.3414e-04\n",
      "Epoch 16/77\n",
      "19/19 [==============================] - 4s 188ms/step - loss: 6.1677e-04 - val_loss: 6.9118e-04\n",
      "Epoch 17/77\n",
      "19/19 [==============================] - 4s 187ms/step - loss: 6.2560e-04 - val_loss: 6.6651e-04\n",
      "Epoch 18/77\n",
      "19/19 [==============================] - 4s 190ms/step - loss: 5.6775e-04 - val_loss: 6.6160e-04\n",
      "Epoch 19/77\n",
      "19/19 [==============================] - 4s 188ms/step - loss: 5.6922e-04 - val_loss: 6.3194e-04\n",
      "Epoch 20/77\n",
      "19/19 [==============================] - 3s 162ms/step - loss: 5.7883e-04 - val_loss: 6.1302e-04\n",
      "Epoch 21/77\n",
      "19/19 [==============================] - 4s 227ms/step - loss: 5.8859e-04 - val_loss: 6.7683e-04\n",
      "Epoch 22/77\n",
      "19/19 [==============================] - 3s 171ms/step - loss: 5.5301e-04 - val_loss: 7.3154e-04\n",
      "Epoch 23/77\n",
      "19/19 [==============================] - 3s 161ms/step - loss: 5.2584e-04 - val_loss: 6.1178e-04\n",
      "Epoch 24/77\n",
      "19/19 [==============================] - 3s 162ms/step - loss: 5.0374e-04 - val_loss: 5.5293e-04\n",
      "Epoch 25/77\n",
      "19/19 [==============================] - 4s 201ms/step - loss: 4.9359e-04 - val_loss: 5.3756e-04\n",
      "Epoch 26/77\n",
      "19/19 [==============================] - 4s 220ms/step - loss: 5.2406e-04 - val_loss: 5.0280e-04\n",
      "Epoch 27/77\n",
      "19/19 [==============================] - 3s 171ms/step - loss: 5.0927e-04 - val_loss: 5.6098e-04\n",
      "Epoch 28/77\n",
      "19/19 [==============================] - 4s 198ms/step - loss: 4.6332e-04 - val_loss: 5.6123e-04\n",
      "Epoch 29/77\n",
      "19/19 [==============================] - 4s 231ms/step - loss: 5.2211e-04 - val_loss: 4.8276e-04\n",
      "Epoch 30/77\n",
      "19/19 [==============================] - 3s 154ms/step - loss: 4.5551e-04 - val_loss: 4.6395e-04\n",
      "Epoch 31/77\n",
      "19/19 [==============================] - 3s 167ms/step - loss: 4.4420e-04 - val_loss: 4.9119e-04\n",
      "Epoch 32/77\n",
      "19/19 [==============================] - 3s 176ms/step - loss: 4.2837e-04 - val_loss: 4.3292e-04\n",
      "Epoch 33/77\n",
      "19/19 [==============================] - 4s 197ms/step - loss: 4.5281e-04 - val_loss: 4.8030e-04\n",
      "Epoch 34/77\n",
      "19/19 [==============================] - 4s 187ms/step - loss: 4.5879e-04 - val_loss: 4.1548e-04\n",
      "Epoch 35/77\n",
      "19/19 [==============================] - 3s 165ms/step - loss: 4.3732e-04 - val_loss: 3.9234e-04\n",
      "Epoch 36/77\n",
      "19/19 [==============================] - 3s 166ms/step - loss: 3.9135e-04 - val_loss: 3.9812e-04\n",
      "Epoch 37/77\n",
      "19/19 [==============================] - 3s 180ms/step - loss: 4.0010e-04 - val_loss: 3.9919e-04\n",
      "Epoch 38/77\n",
      "19/19 [==============================] - 3s 178ms/step - loss: 4.6179e-04 - val_loss: 3.9258e-04\n",
      "Epoch 39/77\n",
      "19/19 [==============================] - 3s 177ms/step - loss: 3.9774e-04 - val_loss: 3.6494e-04\n",
      "Epoch 40/77\n",
      "19/19 [==============================] - 4s 202ms/step - loss: 3.6879e-04 - val_loss: 4.3333e-04\n",
      "Epoch 41/77\n",
      "19/19 [==============================] - 4s 194ms/step - loss: 3.4602e-04 - val_loss: 3.2032e-04\n",
      "Epoch 42/77\n",
      "19/19 [==============================] - 4s 184ms/step - loss: 3.2700e-04 - val_loss: 3.0052e-04\n",
      "Epoch 43/77\n",
      "19/19 [==============================] - 4s 208ms/step - loss: 3.1532e-04 - val_loss: 3.0787e-04\n",
      "Epoch 44/77\n",
      "19/19 [==============================] - 3s 136ms/step - loss: 3.1610e-04 - val_loss: 3.8969e-04\n",
      "Epoch 45/77\n",
      "19/19 [==============================] - 3s 141ms/step - loss: 3.1359e-04 - val_loss: 2.7845e-04\n",
      "Epoch 46/77\n",
      "19/19 [==============================] - 3s 163ms/step - loss: 2.9324e-04 - val_loss: 2.6287e-04\n",
      "Epoch 47/77\n",
      "19/19 [==============================] - 3s 159ms/step - loss: 2.9029e-04 - val_loss: 2.7441e-04\n",
      "Epoch 48/77\n",
      "19/19 [==============================] - 3s 154ms/step - loss: 2.7007e-04 - val_loss: 2.5624e-04\n",
      "Epoch 49/77\n",
      "19/19 [==============================] - 3s 185ms/step - loss: 2.6628e-04 - val_loss: 2.3532e-04\n",
      "Epoch 50/77\n",
      "19/19 [==============================] - 4s 211ms/step - loss: 2.5375e-04 - val_loss: 2.4576e-04\n",
      "Epoch 51/77\n",
      "19/19 [==============================] - 3s 143ms/step - loss: 2.5231e-04 - val_loss: 2.2255e-04\n",
      "Epoch 52/77\n",
      "19/19 [==============================] - 3s 172ms/step - loss: 2.4740e-04 - val_loss: 2.1086e-04\n",
      "Epoch 53/77\n",
      "19/19 [==============================] - 3s 174ms/step - loss: 2.4025e-04 - val_loss: 2.3070e-04\n",
      "Epoch 54/77\n",
      "19/19 [==============================] - 4s 189ms/step - loss: 2.3336e-04 - val_loss: 2.1137e-04\n",
      "Epoch 55/77\n",
      "19/19 [==============================] - 3s 154ms/step - loss: 2.1829e-04 - val_loss: 2.2017e-04\n",
      "Epoch 56/77\n",
      "19/19 [==============================] - 4s 191ms/step - loss: 2.2067e-04 - val_loss: 1.7746e-04\n",
      "Epoch 57/77\n",
      "19/19 [==============================] - 3s 176ms/step - loss: 2.1813e-04 - val_loss: 2.1119e-04\n",
      "Epoch 58/77\n",
      "19/19 [==============================] - 4s 210ms/step - loss: 2.2963e-04 - val_loss: 1.7794e-04\n",
      "Epoch 59/77\n",
      "19/19 [==============================] - 4s 188ms/step - loss: 2.7093e-04 - val_loss: 1.8070e-04\n",
      "Epoch 60/77\n",
      "19/19 [==============================] - 4s 223ms/step - loss: 2.1913e-04 - val_loss: 1.8008e-04\n",
      "Epoch 61/77\n",
      "19/19 [==============================] - 5s 238ms/step - loss: 2.1021e-04 - val_loss: 2.3643e-04\n",
      "Epoch 62/77\n",
      "19/19 [==============================] - 3s 183ms/step - loss: 2.0255e-04 - val_loss: 1.6269e-04\n",
      "Epoch 63/77\n",
      "19/19 [==============================] - 4s 202ms/step - loss: 1.8189e-04 - val_loss: 1.8672e-04\n",
      "Epoch 64/77\n",
      "19/19 [==============================] - 3s 169ms/step - loss: 1.7892e-04 - val_loss: 2.2378e-04\n",
      "Epoch 65/77\n",
      "19/19 [==============================] - 4s 225ms/step - loss: 1.7871e-04 - val_loss: 1.6116e-04\n",
      "Epoch 66/77\n",
      "19/19 [==============================] - 3s 175ms/step - loss: 1.8110e-04 - val_loss: 1.4960e-04\n",
      "Epoch 67/77\n",
      "19/19 [==============================] - 4s 203ms/step - loss: 1.6500e-04 - val_loss: 1.4229e-04\n",
      "Epoch 68/77\n",
      "19/19 [==============================] - 3s 161ms/step - loss: 1.8958e-04 - val_loss: 1.3881e-04\n",
      "Epoch 69/77\n",
      "19/19 [==============================] - 3s 170ms/step - loss: 1.5885e-04 - val_loss: 1.5741e-04\n",
      "Epoch 70/77\n",
      "19/19 [==============================] - 4s 235ms/step - loss: 1.6022e-04 - val_loss: 1.4790e-04\n",
      "Epoch 71/77\n",
      "19/19 [==============================] - 4s 189ms/step - loss: 1.5064e-04 - val_loss: 1.3116e-04\n",
      "Epoch 72/77\n",
      "19/19 [==============================] - 4s 239ms/step - loss: 1.4874e-04 - val_loss: 1.2707e-04\n",
      "Epoch 73/77\n",
      "19/19 [==============================] - 3s 154ms/step - loss: 1.4855e-04 - val_loss: 1.2720e-04\n",
      "Epoch 74/77\n",
      "19/19 [==============================] - 4s 199ms/step - loss: 1.4306e-04 - val_loss: 1.2902e-04\n",
      "Epoch 75/77\n",
      "19/19 [==============================] - 4s 189ms/step - loss: 1.4072e-04 - val_loss: 1.2921e-04\n",
      "Epoch 76/77\n"
     ]
    },
    {
     "name": "stdout",
     "output_type": "stream",
     "text": [
      "19/19 [==============================] - 4s 187ms/step - loss: 1.4160e-04 - val_loss: 1.3593e-04\n",
      "Epoch 77/77\n",
      "19/19 [==============================] - 3s 147ms/step - loss: 1.5989e-04 - val_loss: 1.2494e-04\n"
     ]
    }
   ],
   "source": [
    "history = model.fit(X_train, y_train, validation_split=0.1, epochs=77, batch_size=64, verbose=1, shuffle=True).history"
   ]
  },
  {
   "cell_type": "code",
   "execution_count": 16,
   "id": "faec31f0",
   "metadata": {},
   "outputs": [
    {
     "name": "stdout",
     "output_type": "stream",
     "text": [
      "42/42 [==============================] - 6s 26ms/step\n",
      "16/16 [==============================] - 1s 56ms/step\n"
     ]
    }
   ],
   "source": [
    "train_predict = model.predict(X_train)\n",
    "test_predict = model.predict(X_test)"
   ]
  },
  {
   "cell_type": "code",
   "execution_count": 23,
   "id": "123ece17",
   "metadata": {},
   "outputs": [],
   "source": [
    "# Reversing the MinMax Scaler\n",
    "train_predict = scaler.inverse_transform(train_predict)\n",
    "test_predict = scaler.inverse_transform(test_predict)"
   ]
  },
  {
   "cell_type": "code",
   "execution_count": 25,
   "id": "dc43661f",
   "metadata": {},
   "outputs": [
    {
     "name": "stdout",
     "output_type": "stream",
     "text": [
      "32716.254457629508\n",
      "50794.30781278773\n"
     ]
    }
   ],
   "source": [
    "print(math.sqrt(mean_squared_error(y_train, train_predict)))\n",
    "print(math.sqrt(mean_squared_error(y_test,test_predict)))"
   ]
  },
  {
   "cell_type": "code",
   "execution_count": 19,
   "id": "b9799a03",
   "metadata": {},
   "outputs": [
    {
     "data": {
      "image/png": "[encoded data removed]",
      "text/plain": [
       "<Figure size 432x288 with 1 Axes>"
      ]
     },
     "metadata": {
      "needs_background": "light"
     },
     "output_type": "display_data"
    }
   ],
   "source": [
    "### Visualise the Predictions\n",
    "look_back = 100\n",
    "train_num_pyredict_plot = np.empty_like(data_close)\n",
    "train_num_pyredict_plot[:, :] = np.nan\n",
    "train_num_pyredict_plot[look_back : len(train_predict) + look_back, :] = train_predict\n",
    "test_predict_plot = np.empty_like(data_close)\n",
    "test_predict_plot[:, :] = np.nan\n",
    "test_predict_plot[len(train_predict) + (look_back * 2) + 1 : len(data_close) - 1, :] = test_predict\n",
    "plt.plot(scaler.inverse_transform(data_close))\n",
    "plt.plot(train_num_pyredict_plot)\n",
    "plt.plot(test_predict_plot)\n",
    "plt.show()"
   ]
  },
  {
   "cell_type": "markdown",
   "id": "5d2ea499",
   "metadata": {},
   "source": [
    "- Green indicates the Predicted \n",
    "- Blue indicates the Complete Data\n",
    "- Orange indicates the Train Data\n"
   ]
  },
  {
   "cell_type": "markdown",
   "id": "de0d1753",
   "metadata": {},
   "source": [
    "# Model Prediction"
   ]
  },
  {
   "cell_type": "code",
   "execution_count": 20,
   "id": "8e414012",
   "metadata": {},
   "outputs": [],
   "source": [
    "### Future Prediction Model\n",
    "x_inum_pyut=test[307:].reshape(1, -1)\n",
    "x_inum_pyut.shape\n",
    "temp_inum_pyut = list(x_inum_pyut)\n",
    "temp_inum_pyut = temp_inum_pyut[0].tolist()\n",
    "temp_inum_pyut = list(x_inum_pyut)\n",
    "temp_inum_pyut = temp_inum_pyut[0].tolist()"
   ]
  },
  {
   "cell_type": "code",
   "execution_count": 22,
   "id": "d523cf1b",
   "metadata": {},
   "outputs": [
    {
     "data": {
      "text/plain": [
       "[<matplotlib.lines.Line2D at 0x20134256130>]"
      ]
     },
     "execution_count": 22,
     "metadata": {},
     "output_type": "execute_result"
    },
    {
     "data": {
      "image/png": "[encoded data removed]",
      "text/plain": [
       "<Figure size 432x288 with 1 Axes>"
      ]
     },
     "metadata": {
      "needs_background": "light"
     },
     "output_type": "display_data"
    }
   ],
   "source": [
    "day_new = np.arange(1, 101)\n",
    "day_pred = np.arange(101, 131)\n",
    "plt.plot(day_new, scaler.inverse_transform(data_close[1935 : ]))"
   ]
  },
  {
   "cell_type": "markdown",
   "id": "4da362d8",
   "metadata": {},
   "source": [
    "# Thank You"
   ]
  }
 ],
 "metadata": {
  "kernelspec": {
   "display_name": "Python 3 (ipykernel)",
   "language": "python",
   "name": "python3"
  },
  "language_info": {
   "codemirror_mode": {
    "name": "ipython",
    "version": 3
   },
   "file_extension": ".py",
   "mimetype": "text/x-python",
   "name": "python",
   "nbconvert_exporter": "python",
   "pygments_lexer": "ipython3",
   "version": "3.9.12"
  }
 },
 "nbformat": 4,
 "nbformat_minor": 5
}
